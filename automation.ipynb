{
 "cells": [
  {
   "cell_type": "code",
   "execution_count": 23,
   "metadata": {},
   "outputs": [],
   "source": [
    "from docx import Document\n",
    "import openpyxl as pyxl"
   ]
  },
  {
   "cell_type": "code",
   "execution_count": null,
   "metadata": {},
   "outputs": [],
   "source": [
    "from docx import Document\n",
    "\n",
    "document = Document(\"doc.docx\")\n",
    "\n",
    "for paragrafo in document.paragraphs:\n",
    "    print(paragrafo.text)"
   ]
  },
  {
   "cell_type": "code",
   "execution_count": null,
   "metadata": {},
   "outputs": [],
   "source": [
    "def extrair_matriculas(caminho_arquivo):\n",
    "\n",
    "    document = Document(\"doc.docx\")\n",
    "    matriculas = []\n",
    "\n",
    "    for paragrafo in document.paragraphs:\n",
    "        texto = paragrafo.text\n",
    "        if \"==\" in texto:\n",
    "            matricula = texto.split(\"==\")[1].strip()\n",
    "            matriculas.append(matricula)\n",
    "\n",
    "    return matriculas\n",
    "\n",
    "\n",
    "caminho_do_arquivo = \"doc.docx\"\n",
    "matriculas_encontradas = extrair_matriculas(caminho_do_arquivo)\n",
    "\n",
    "\n",
    "print(matriculas_encontradas)"
   ]
  },
  {
   "cell_type": "code",
   "execution_count": 31,
   "metadata": {},
   "outputs": [
    {
     "name": "stdout",
     "output_type": "stream",
     "text": [
      "3001 3.001 \n",
      "Contrato de Compra e Venda de Bem Imóvel\n",
      "\n",
      "CLÁUSULA PRIMEIRA: O VENDEDOR é legítimo proprietário e possuidor do seguinte imóvel:\n",
      "\n",
      "Um Terreno: situado à Rua/Av. ___ nº _, constituído pelo LOTE nº, que mede ___ metros de frente; ____ metros da frente aos fundos, de ambos os lados e, ____ metros de fundos (características, confrontações, etc);\n",
      "Lançado pela Municipalidade sob a inscrição cadastral nº e adquirido conforme Escritura Pública de Compra e Venda lavrada aos ___ no __ Tabelionato de ___, e registrada sob o n.º ____ aos ___, no ___ Registro de Imóveis de ______.\n",
      "\n"
     ]
    },
    {
     "ename": "AttributeError",
     "evalue": "'int' object has no attribute 'write'",
     "output_type": "error",
     "traceback": [
      "\u001b[1;31m---------------------------------------------------------------------------\u001b[0m",
      "\u001b[1;31mAttributeError\u001b[0m                            Traceback (most recent call last)",
      "Cell \u001b[1;32mIn[31], line 8\u001b[0m\n\u001b[0;32m      6\u001b[0m \u001b[38;5;28mprint\u001b[39m(rows[\u001b[38;5;241m0\u001b[39m]\u001b[38;5;241m.\u001b[39mvalue, rows[\u001b[38;5;241m1\u001b[39m]\u001b[38;5;241m.\u001b[39mvalue)\n\u001b[0;32m      7\u001b[0m document\u001b[38;5;241m.\u001b[39madd_paragraph(rows[\u001b[38;5;241m1\u001b[39m]\u001b[38;5;241m.\u001b[39mvalue)\n\u001b[1;32m----> 8\u001b[0m \u001b[43mdocument\u001b[49m\u001b[38;5;241;43m.\u001b[39;49m\u001b[43msave\u001b[49m\u001b[43m(\u001b[49m\u001b[43mrows\u001b[49m\u001b[43m[\u001b[49m\u001b[38;5;241;43m0\u001b[39;49m\u001b[43m]\u001b[49m\u001b[38;5;241;43m.\u001b[39;49m\u001b[43mvalue\u001b[49m\u001b[43m)\u001b[49m\n",
      "File \u001b[1;32mc:\\Users\\Breno\\OneDrive\\Documentos\\GitHub\\cartorio-automation\\automation\\Lib\\site-packages\\docx\\document.py:149\u001b[0m, in \u001b[0;36mDocument.save\u001b[1;34m(self, path_or_stream)\u001b[0m\n\u001b[0;32m    143\u001b[0m \u001b[38;5;28;01mdef\u001b[39;00m \u001b[38;5;21msave\u001b[39m(\u001b[38;5;28mself\u001b[39m, path_or_stream: \u001b[38;5;28mstr\u001b[39m \u001b[38;5;241m|\u001b[39m IO[\u001b[38;5;28mbytes\u001b[39m]):\n\u001b[0;32m    144\u001b[0m \u001b[38;5;250m    \u001b[39m\u001b[38;5;124;03m\"\"\"Save this document to `path_or_stream`.\u001b[39;00m\n\u001b[0;32m    145\u001b[0m \n\u001b[0;32m    146\u001b[0m \u001b[38;5;124;03m    `path_or_stream` can be either a path to a filesystem location (a string) or a\u001b[39;00m\n\u001b[0;32m    147\u001b[0m \u001b[38;5;124;03m    file-like object.\u001b[39;00m\n\u001b[0;32m    148\u001b[0m \u001b[38;5;124;03m    \"\"\"\u001b[39;00m\n\u001b[1;32m--> 149\u001b[0m     \u001b[38;5;28;43mself\u001b[39;49m\u001b[38;5;241;43m.\u001b[39;49m\u001b[43m_part\u001b[49m\u001b[38;5;241;43m.\u001b[39;49m\u001b[43msave\u001b[49m\u001b[43m(\u001b[49m\u001b[43mpath_or_stream\u001b[49m\u001b[43m)\u001b[49m\n",
      "File \u001b[1;32mc:\\Users\\Breno\\OneDrive\\Documentos\\GitHub\\cartorio-automation\\automation\\Lib\\site-packages\\docx\\parts\\document.py:108\u001b[0m, in \u001b[0;36mDocumentPart.save\u001b[1;34m(self, path_or_stream)\u001b[0m\n\u001b[0;32m    105\u001b[0m \u001b[38;5;28;01mdef\u001b[39;00m \u001b[38;5;21msave\u001b[39m(\u001b[38;5;28mself\u001b[39m, path_or_stream: \u001b[38;5;28mstr\u001b[39m \u001b[38;5;241m|\u001b[39m IO[\u001b[38;5;28mbytes\u001b[39m]):\n\u001b[0;32m    106\u001b[0m \u001b[38;5;250m    \u001b[39m\u001b[38;5;124;03m\"\"\"Save this document to `path_or_stream`, which can be either a path to a\u001b[39;00m\n\u001b[0;32m    107\u001b[0m \u001b[38;5;124;03m    filesystem location (a string) or a file-like object.\"\"\"\u001b[39;00m\n\u001b[1;32m--> 108\u001b[0m     \u001b[38;5;28;43mself\u001b[39;49m\u001b[38;5;241;43m.\u001b[39;49m\u001b[43mpackage\u001b[49m\u001b[38;5;241;43m.\u001b[39;49m\u001b[43msave\u001b[49m\u001b[43m(\u001b[49m\u001b[43mpath_or_stream\u001b[49m\u001b[43m)\u001b[49m\n",
      "File \u001b[1;32mc:\\Users\\Breno\\OneDrive\\Documentos\\GitHub\\cartorio-automation\\automation\\Lib\\site-packages\\docx\\opc\\package.py:167\u001b[0m, in \u001b[0;36mOpcPackage.save\u001b[1;34m(self, pkg_file)\u001b[0m\n\u001b[0;32m    165\u001b[0m \u001b[38;5;28;01mfor\u001b[39;00m part \u001b[38;5;129;01min\u001b[39;00m \u001b[38;5;28mself\u001b[39m\u001b[38;5;241m.\u001b[39mparts:\n\u001b[0;32m    166\u001b[0m     part\u001b[38;5;241m.\u001b[39mbefore_marshal()\n\u001b[1;32m--> 167\u001b[0m \u001b[43mPackageWriter\u001b[49m\u001b[38;5;241;43m.\u001b[39;49m\u001b[43mwrite\u001b[49m\u001b[43m(\u001b[49m\u001b[43mpkg_file\u001b[49m\u001b[43m,\u001b[49m\u001b[43m \u001b[49m\u001b[38;5;28;43mself\u001b[39;49m\u001b[38;5;241;43m.\u001b[39;49m\u001b[43mrels\u001b[49m\u001b[43m,\u001b[49m\u001b[43m \u001b[49m\u001b[38;5;28;43mself\u001b[39;49m\u001b[38;5;241;43m.\u001b[39;49m\u001b[43mparts\u001b[49m\u001b[43m)\u001b[49m\n",
      "File \u001b[1;32mc:\\Users\\Breno\\OneDrive\\Documentos\\GitHub\\cartorio-automation\\automation\\Lib\\site-packages\\docx\\opc\\pkgwriter.py:35\u001b[0m, in \u001b[0;36mPackageWriter.write\u001b[1;34m(pkg_file, pkg_rels, parts)\u001b[0m\n\u001b[0;32m     32\u001b[0m \u001b[38;5;250m\u001b[39m\u001b[38;5;124;03m\"\"\"Write a physical package (.pptx file) to `pkg_file` containing `pkg_rels` and\u001b[39;00m\n\u001b[0;32m     33\u001b[0m \u001b[38;5;124;03m`parts` and a content types stream based on the content types of the parts.\"\"\"\u001b[39;00m\n\u001b[0;32m     34\u001b[0m phys_writer \u001b[38;5;241m=\u001b[39m PhysPkgWriter(pkg_file)\n\u001b[1;32m---> 35\u001b[0m \u001b[43mPackageWriter\u001b[49m\u001b[38;5;241;43m.\u001b[39;49m\u001b[43m_write_content_types_stream\u001b[49m\u001b[43m(\u001b[49m\u001b[43mphys_writer\u001b[49m\u001b[43m,\u001b[49m\u001b[43m \u001b[49m\u001b[43mparts\u001b[49m\u001b[43m)\u001b[49m\n\u001b[0;32m     36\u001b[0m PackageWriter\u001b[38;5;241m.\u001b[39m_write_pkg_rels(phys_writer, pkg_rels)\n\u001b[0;32m     37\u001b[0m PackageWriter\u001b[38;5;241m.\u001b[39m_write_parts(phys_writer, parts)\n",
      "File \u001b[1;32mc:\\Users\\Breno\\OneDrive\\Documentos\\GitHub\\cartorio-automation\\automation\\Lib\\site-packages\\docx\\opc\\pkgwriter.py:45\u001b[0m, in \u001b[0;36mPackageWriter._write_content_types_stream\u001b[1;34m(phys_writer, parts)\u001b[0m\n\u001b[0;32m     42\u001b[0m \u001b[38;5;250m\u001b[39m\u001b[38;5;124;03m\"\"\"Write ``[Content_Types].xml`` part to the physical package with an\u001b[39;00m\n\u001b[0;32m     43\u001b[0m \u001b[38;5;124;03mappropriate content type lookup target for each part in `parts`.\"\"\"\u001b[39;00m\n\u001b[0;32m     44\u001b[0m cti \u001b[38;5;241m=\u001b[39m _ContentTypesItem\u001b[38;5;241m.\u001b[39mfrom_parts(parts)\n\u001b[1;32m---> 45\u001b[0m \u001b[43mphys_writer\u001b[49m\u001b[38;5;241;43m.\u001b[39;49m\u001b[43mwrite\u001b[49m\u001b[43m(\u001b[49m\u001b[43mCONTENT_TYPES_URI\u001b[49m\u001b[43m,\u001b[49m\u001b[43m \u001b[49m\u001b[43mcti\u001b[49m\u001b[38;5;241;43m.\u001b[39;49m\u001b[43mblob\u001b[49m\u001b[43m)\u001b[49m\n",
      "File \u001b[1;32mc:\\Users\\Breno\\OneDrive\\Documentos\\GitHub\\cartorio-automation\\automation\\Lib\\site-packages\\docx\\opc\\phys_pkg.py:119\u001b[0m, in \u001b[0;36m_ZipPkgWriter.write\u001b[1;34m(self, pack_uri, blob)\u001b[0m\n\u001b[0;32m    116\u001b[0m \u001b[38;5;28;01mdef\u001b[39;00m \u001b[38;5;21mwrite\u001b[39m(\u001b[38;5;28mself\u001b[39m, pack_uri, blob):\n\u001b[0;32m    117\u001b[0m \u001b[38;5;250m    \u001b[39m\u001b[38;5;124;03m\"\"\"Write `blob` to this zip package with the membername corresponding to\u001b[39;00m\n\u001b[0;32m    118\u001b[0m \u001b[38;5;124;03m    `pack_uri`.\"\"\"\u001b[39;00m\n\u001b[1;32m--> 119\u001b[0m     \u001b[38;5;28;43mself\u001b[39;49m\u001b[38;5;241;43m.\u001b[39;49m\u001b[43m_zipf\u001b[49m\u001b[38;5;241;43m.\u001b[39;49m\u001b[43mwritestr\u001b[49m\u001b[43m(\u001b[49m\u001b[43mpack_uri\u001b[49m\u001b[38;5;241;43m.\u001b[39;49m\u001b[43mmembername\u001b[49m\u001b[43m,\u001b[49m\u001b[43m \u001b[49m\u001b[43mblob\u001b[49m\u001b[43m)\u001b[49m\n",
      "File \u001b[1;32mC:\\Program Files\\WindowsApps\\PythonSoftwareFoundation.Python.3.12_3.12.1008.0_x64__qbz5n2kfra8p0\\Lib\\zipfile\\__init__.py:1900\u001b[0m, in \u001b[0;36mZipFile.writestr\u001b[1;34m(self, zinfo_or_arcname, data, compress_type, compresslevel)\u001b[0m\n\u001b[0;32m   1898\u001b[0m zinfo\u001b[38;5;241m.\u001b[39mfile_size \u001b[38;5;241m=\u001b[39m \u001b[38;5;28mlen\u001b[39m(data)            \u001b[38;5;66;03m# Uncompressed size\u001b[39;00m\n\u001b[0;32m   1899\u001b[0m \u001b[38;5;28;01mwith\u001b[39;00m \u001b[38;5;28mself\u001b[39m\u001b[38;5;241m.\u001b[39m_lock:\n\u001b[1;32m-> 1900\u001b[0m     \u001b[38;5;28;01mwith\u001b[39;00m \u001b[38;5;28;43mself\u001b[39;49m\u001b[38;5;241;43m.\u001b[39;49m\u001b[43mopen\u001b[49m\u001b[43m(\u001b[49m\u001b[43mzinfo\u001b[49m\u001b[43m,\u001b[49m\u001b[43m \u001b[49m\u001b[43mmode\u001b[49m\u001b[38;5;241;43m=\u001b[39;49m\u001b[38;5;124;43m'\u001b[39;49m\u001b[38;5;124;43mw\u001b[39;49m\u001b[38;5;124;43m'\u001b[39;49m\u001b[43m)\u001b[49m \u001b[38;5;28;01mas\u001b[39;00m dest:\n\u001b[0;32m   1901\u001b[0m         dest\u001b[38;5;241m.\u001b[39mwrite(data)\n",
      "File \u001b[1;32mC:\\Program Files\\WindowsApps\\PythonSoftwareFoundation.Python.3.12_3.12.1008.0_x64__qbz5n2kfra8p0\\Lib\\zipfile\\__init__.py:1607\u001b[0m, in \u001b[0;36mZipFile.open\u001b[1;34m(self, name, mode, pwd, force_zip64)\u001b[0m\n\u001b[0;32m   1604\u001b[0m     zinfo \u001b[38;5;241m=\u001b[39m \u001b[38;5;28mself\u001b[39m\u001b[38;5;241m.\u001b[39mgetinfo(name)\n\u001b[0;32m   1606\u001b[0m \u001b[38;5;28;01mif\u001b[39;00m mode \u001b[38;5;241m==\u001b[39m \u001b[38;5;124m'\u001b[39m\u001b[38;5;124mw\u001b[39m\u001b[38;5;124m'\u001b[39m:\n\u001b[1;32m-> 1607\u001b[0m     \u001b[38;5;28;01mreturn\u001b[39;00m \u001b[38;5;28;43mself\u001b[39;49m\u001b[38;5;241;43m.\u001b[39;49m\u001b[43m_open_to_write\u001b[49m\u001b[43m(\u001b[49m\u001b[43mzinfo\u001b[49m\u001b[43m,\u001b[49m\u001b[43m \u001b[49m\u001b[43mforce_zip64\u001b[49m\u001b[38;5;241;43m=\u001b[39;49m\u001b[43mforce_zip64\u001b[49m\u001b[43m)\u001b[49m\n\u001b[0;32m   1609\u001b[0m \u001b[38;5;28;01mif\u001b[39;00m \u001b[38;5;28mself\u001b[39m\u001b[38;5;241m.\u001b[39m_writing:\n\u001b[0;32m   1610\u001b[0m     \u001b[38;5;28;01mraise\u001b[39;00m \u001b[38;5;167;01mValueError\u001b[39;00m(\u001b[38;5;124m\"\u001b[39m\u001b[38;5;124mCan\u001b[39m\u001b[38;5;124m'\u001b[39m\u001b[38;5;124mt read from the ZIP file while there \u001b[39m\u001b[38;5;124m\"\u001b[39m\n\u001b[0;32m   1611\u001b[0m             \u001b[38;5;124m\"\u001b[39m\u001b[38;5;124mis an open writing handle on it. \u001b[39m\u001b[38;5;124m\"\u001b[39m\n\u001b[0;32m   1612\u001b[0m             \u001b[38;5;124m\"\u001b[39m\u001b[38;5;124mClose the writing handle before trying to read.\u001b[39m\u001b[38;5;124m\"\u001b[39m)\n",
      "File \u001b[1;32mC:\\Program Files\\WindowsApps\\PythonSoftwareFoundation.Python.3.12_3.12.1008.0_x64__qbz5n2kfra8p0\\Lib\\zipfile\\__init__.py:1709\u001b[0m, in \u001b[0;36mZipFile._open_to_write\u001b[1;34m(self, zinfo, force_zip64)\u001b[0m\n\u001b[0;32m   1706\u001b[0m \u001b[38;5;28mself\u001b[39m\u001b[38;5;241m.\u001b[39m_writecheck(zinfo)\n\u001b[0;32m   1707\u001b[0m \u001b[38;5;28mself\u001b[39m\u001b[38;5;241m.\u001b[39m_didModify \u001b[38;5;241m=\u001b[39m \u001b[38;5;28;01mTrue\u001b[39;00m\n\u001b[1;32m-> 1709\u001b[0m \u001b[38;5;28;43mself\u001b[39;49m\u001b[38;5;241;43m.\u001b[39;49m\u001b[43mfp\u001b[49m\u001b[38;5;241;43m.\u001b[39;49m\u001b[43mwrite\u001b[49m\u001b[43m(\u001b[49m\u001b[43mzinfo\u001b[49m\u001b[38;5;241;43m.\u001b[39;49m\u001b[43mFileHeader\u001b[49m\u001b[43m(\u001b[49m\u001b[43mzip64\u001b[49m\u001b[43m)\u001b[49m\u001b[43m)\u001b[49m\n\u001b[0;32m   1711\u001b[0m \u001b[38;5;28mself\u001b[39m\u001b[38;5;241m.\u001b[39m_writing \u001b[38;5;241m=\u001b[39m \u001b[38;5;28;01mTrue\u001b[39;00m\n\u001b[0;32m   1712\u001b[0m \u001b[38;5;28;01mreturn\u001b[39;00m _ZipWriteFile(\u001b[38;5;28mself\u001b[39m, zinfo, zip64)\n",
      "File \u001b[1;32mC:\\Program Files\\WindowsApps\\PythonSoftwareFoundation.Python.3.12_3.12.1008.0_x64__qbz5n2kfra8p0\\Lib\\zipfile\\__init__.py:825\u001b[0m, in \u001b[0;36m_Tellable.write\u001b[1;34m(self, data)\u001b[0m\n\u001b[0;32m    824\u001b[0m \u001b[38;5;28;01mdef\u001b[39;00m \u001b[38;5;21mwrite\u001b[39m(\u001b[38;5;28mself\u001b[39m, data):\n\u001b[1;32m--> 825\u001b[0m     n \u001b[38;5;241m=\u001b[39m \u001b[38;5;28;43mself\u001b[39;49m\u001b[38;5;241;43m.\u001b[39;49m\u001b[43mfp\u001b[49m\u001b[38;5;241;43m.\u001b[39;49m\u001b[43mwrite\u001b[49m(data)\n\u001b[0;32m    826\u001b[0m     \u001b[38;5;28mself\u001b[39m\u001b[38;5;241m.\u001b[39moffset \u001b[38;5;241m+\u001b[39m\u001b[38;5;241m=\u001b[39m n\n\u001b[0;32m    827\u001b[0m     \u001b[38;5;28;01mreturn\u001b[39;00m n\n",
      "\u001b[1;31mAttributeError\u001b[0m: 'int' object has no attribute 'write'"
     ]
    }
   ],
   "source": [
    "workbook = pyxl.load_workbook(\"doc.xlsx\")\n",
    "document = Document()\n",
    "planilha = workbook.active\n",
    "\n",
    "for rows in planilha.iter_rows(min_row=2):\n",
    "    print(rows[0].value, rows[1].value)\n",
    "    document.add_paragraph(rows[1].value)\n",
    "    document.save(rows[0].value)\n"
   ]
  },
  {
   "cell_type": "code",
   "execution_count": null,
   "metadata": {},
   "outputs": [],
   "source": []
  }
 ],
 "metadata": {
  "kernelspec": {
   "display_name": "automation",
   "language": "python",
   "name": "python3"
  },
  "language_info": {
   "codemirror_mode": {
    "name": "ipython",
    "version": 3
   },
   "file_extension": ".py",
   "mimetype": "text/x-python",
   "name": "python",
   "nbconvert_exporter": "python",
   "pygments_lexer": "ipython3",
   "version": "3.12.3"
  }
 },
 "nbformat": 4,
 "nbformat_minor": 2
}
