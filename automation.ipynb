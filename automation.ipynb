{
 "cells": [
  {
   "cell_type": "code",
   "execution_count": 13,
   "metadata": {},
   "outputs": [],
   "source": [
    "from docx import Document"
   ]
  },
  {
   "cell_type": "code",
   "execution_count": 19,
   "metadata": {},
   "outputs": [
    {
     "name": "stdout",
     "output_type": "stream",
     "text": [
      "==\n",
      "3.001 \n",
      "Contrato de Compra e Venda de Bem Imóvel\n",
      "\n",
      "CLÁUSULA PRIMEIRA: O VENDEDOR é legítimo proprietário e possuidor do seguinte imóvel:\n",
      "\n",
      "Um Terreno: situado à Rua/Av. ___ nº _, constituído pelo LOTE nº, que mede ___ metros de frente; ____ metros da frente aos fundos, de ambos os lados e, ____ metros de fundos (características, confrontações, etc);\n",
      "Lançado pela Municipalidade sob a inscrição cadastral nº e adquirido conforme Escritura Pública de Compra e Venda lavrada aos ___ no __ Tabelionato de ___, e registrada sob o n.º ____ aos ___, no ___ Registro de Imóveis de ______.\n",
      "==\n",
      "3.002\n",
      "Contrato de Compra e Venda de Bem Imóvel\n",
      "\n",
      "CLÁUSULA PRIMEIRA: O VENDEDOR é legítimo proprietário e possuidor do seguinte imóvel:\n",
      "\n",
      "Um Terreno: situado à Rua/Av. ___ nº _, constituído pelo LOTE nº, que mede ___ metros de frente; ____ metros da frente aos fundos, de ambos os lados e, ____ metros de fundos (características, confrontações, etc);\n",
      "Lançado pela Municipalidade sob a inscrição cadastral nº e adquirido conforme Escritura Pública de Compra e Venda lavrada aos ___ no __ Tabelionato de ___, e registrada sob o n.º ____ aos ___, no ___ Registro de Imóveis de ______.\n",
      "==\n",
      "3.003 \n",
      "Contrato de Compra e Venda de Bem Imóvel\n",
      "\n",
      "CLÁUSULA PRIMEIRA: O VENDEDOR é legítimo proprietário e possuidor do seguinte imóvel:\n",
      "\n",
      "Um Terreno: situado à Rua/Av. ___ nº _, constituído pelo LOTE nº, que mede ___ metros de frente; ____ metros da frente aos fundos, de ambos os lados e, ____ metros de fundos (características, confrontações, etc);\n",
      "Lançado pela Municipalidade sob a inscrição cadastral nº e adquirido conforme Escritura Pública de Compra e Venda lavrada aos ___ no __ Tabelionato de ___, e registrada sob o n.º ____ aos ___, no ___ Registro de Imóveis de ______.\n",
      "==\n",
      "3.004\n",
      "Contrato de Compra e Venda de Bem Imóvel\n",
      "\n",
      "CLÁUSULA PRIMEIRA: O VENDEDOR é legítimo proprietário e possuidor do seguinte imóvel:\n",
      "\n",
      "Um Terreno: situado à Rua/Av. ___ nº _, constituído pelo LOTE nº, que mede ___ metros de frente; ____ metros da frente aos fundos, de ambos os lados e, ____ metros de fundos (características, confrontações, etc);\n",
      "Lançado pela Municipalidade sob a inscrição cadastral nº e adquirido conforme Escritura Pública de Compra e Venda lavrada aos ___ no __ Tabelionato de ___, e registrada sob o n.º ____ aos ___, no ___ Registro de Imóveis de ______.\n",
      "\n",
      "\n"
     ]
    }
   ],
   "source": [
    "from docx import Document\n",
    "\n",
    "document = Document(\"doc.docx\")\n",
    "\n",
    "for paragrafo in document.paragraphs:\n",
    "    print(paragrafo.text)"
   ]
  },
  {
   "cell_type": "code",
   "execution_count": 18,
   "metadata": {},
   "outputs": [
    {
     "name": "stdout",
     "output_type": "stream",
     "text": [
      "['', '', '', '']\n"
     ]
    }
   ],
   "source": [
    "\n",
    "def extrair_matriculas(caminho_arquivo):\n",
    "\n",
    "    document = Document(\"doc.docx\")\n",
    "    matriculas = []\n",
    "\n",
    "    for paragrafo in document.paragraphs:\n",
    "        texto = paragrafo.text\n",
    "        if \"==\" in texto:\n",
    "            matricula = texto.split(\"==\")[1].strip()\n",
    "            matriculas.append(matricula)\n",
    "\n",
    "    return matriculas\n",
    "\n",
    "\n",
    "caminho_do_arquivo = \"doc.docx\"\n",
    "matriculas_encontradas = extrair_matriculas(caminho_do_arquivo)\n",
    "\n",
    "\n",
    "print(matriculas_encontradas)"
   ]
  }
 ],
 "metadata": {
  "kernelspec": {
   "display_name": "automation",
   "language": "python",
   "name": "python3"
  },
  "language_info": {
   "codemirror_mode": {
    "name": "ipython",
    "version": 3
   },
   "file_extension": ".py",
   "mimetype": "text/x-python",
   "name": "python",
   "nbconvert_exporter": "python",
   "pygments_lexer": "ipython3",
   "version": "3.12.3"
  }
 },
 "nbformat": 4,
 "nbformat_minor": 2
}
